{
  "nbformat": 4,
  "nbformat_minor": 0,
  "metadata": {
    "colab": {
      "name": "Assignment Day 3.ipynb",
      "provenance": [],
      "collapsed_sections": []
    },
    "kernelspec": {
      "name": "python3",
      "display_name": "Python 3"
    }
  },
  "cells": [
    {
      "cell_type": "markdown",
      "metadata": {
        "id": "zKrwhxMkyplm",
        "colab_type": "text"
      },
      "source": [
        "**Question 1**\n",
        "\n",
        "Write a program to subtract two complex numbers in Python."
      ]
    },
    {
      "cell_type": "code",
      "metadata": {
        "id": "K6LL3MYxyaom",
        "colab_type": "code",
        "colab": {
          "base_uri": "https://localhost:8080/",
          "height": 34
        },
        "outputId": "c0aff4b1-0777-4ee0-fdce-c4ae75c9d763"
      },
      "source": [
        "print (\"Subtaction of Two Complex number is: \", (4+3j) - (3-7j))"
      ],
      "execution_count": null,
      "outputs": [
        {
          "output_type": "stream",
          "text": [
            "Subtaction of Two Complex number is:  (1+10j)\n"
          ],
          "name": "stdout"
        }
      ]
    },
    {
      "cell_type": "markdown",
      "metadata": {
        "id": "8WY526zzzfHV",
        "colab_type": "text"
      },
      "source": [
        "**Question 2**\n",
        "\n",
        "Write a program to find the fourth root of a number.\n"
      ]
    },
    {
      "cell_type": "code",
      "metadata": {
        "id": "wSIcxGOEzlVm",
        "colab_type": "code",
        "colab": {
          "base_uri": "https://localhost:8080/",
          "height": 34
        },
        "outputId": "78450f46-d195-465f-b03d-12fa8a5c6847"
      },
      "source": [
        "a = 2\n",
        "\n",
        "x = a ** (1 / 4)\n",
        "\n",
        "print(x)"
      ],
      "execution_count": null,
      "outputs": [
        {
          "output_type": "stream",
          "text": [
            "1.189207115002721\n"
          ],
          "name": "stdout"
        }
      ]
    },
    {
      "cell_type": "markdown",
      "metadata": {
        "id": "ot01i4gx3Q-R",
        "colab_type": "text"
      },
      "source": [
        "**Question 3**\n",
        "\n",
        "Write a program to swap two numbers in Python with the help of a temporary variable.\n"
      ]
    },
    {
      "cell_type": "code",
      "metadata": {
        "id": "R2PRk4_R3eu_",
        "colab_type": "code",
        "colab": {
          "base_uri": "https://localhost:8080/",
          "height": 84
        },
        "outputId": "20ea1c66-caca-4363-d136-4f579229a2d0"
      },
      "source": [
        "x = 5\n",
        "y = 8\n",
        "\n",
        "print ('The value of x is: ', x)\n",
        "print ('The value of y is: ', y)\n",
        "\n",
        "temp = x\n",
        "x = y\n",
        "y = temp\n",
        "\n",
        "print ('The value of x after swapping is: {}'.format(x))\n",
        "print ('The value of y after swapping is: {}'.format(y))"
      ],
      "execution_count": null,
      "outputs": [
        {
          "output_type": "stream",
          "text": [
            "The value of x is:  5\n",
            "The value of y is:  8\n",
            "The value of x after swapping is: 8\n",
            "The value of y after swapping is: 5\n"
          ],
          "name": "stdout"
        }
      ]
    },
    {
      "cell_type": "markdown",
      "metadata": {
        "id": "PQ-oL4z843bP",
        "colab_type": "text"
      },
      "source": [
        "**Question 4**\n",
        "\n",
        "Write a program to swap two numbers in Python without using a temporary variable."
      ]
    },
    {
      "cell_type": "code",
      "metadata": {
        "id": "OthmEVd14_Xe",
        "colab_type": "code",
        "colab": {
          "base_uri": "https://localhost:8080/",
          "height": 84
        },
        "outputId": "d80a57d6-a935-4d91-97f9-df4917d26714"
      },
      "source": [
        "a = int(input(\"Enter value of first variable is: \"))\n",
        "b = int(input(\"Enter value of second variable is: \"))\n",
        "\n",
        "a=a+b\n",
        "b=a-b\n",
        "a=a-b\n",
        "\n",
        "print (\"The value of a after swapping is: \", a)\n",
        "print (\"The value of b after swapping is: \", b)\n"
      ],
      "execution_count": null,
      "outputs": [
        {
          "output_type": "stream",
          "text": [
            "Enter value of first variable is: 5\n",
            "Enter value of second variable is: 10\n",
            "The value of a after swapping is:  10\n",
            "The value of b after swapping is:  5\n"
          ],
          "name": "stdout"
        }
      ]
    },
    {
      "cell_type": "markdown",
      "metadata": {
        "id": "NLqm09kb58dp",
        "colab_type": "text"
      },
      "source": [
        "**Question 5**\n",
        "\n",
        "Write a program to convert fahrenheit to kelvin and celsius both."
      ]
    },
    {
      "cell_type": "code",
      "metadata": {
        "id": "yS-s_d-I6IJt",
        "colab_type": "code",
        "colab": {
          "base_uri": "https://localhost:8080/",
          "height": 67
        },
        "outputId": "430a2946-98d4-4e48-9802-320ceb08640f"
      },
      "source": [
        "f = float(input(\"Enter Temperature in Fahrenheit: \"))\n",
        "\n",
        "c = (f - 32) * 5 / 9\n",
        "\n",
        "print (\"Temperature in Celsius is: \", c)\n",
        "\n",
        "k = 273.5 + ((f - 32) * (5 / 9))\n",
        "\n",
        "print (\"Temperature in Kelvin is: \", k)"
      ],
      "execution_count": null,
      "outputs": [
        {
          "output_type": "stream",
          "text": [
            "Enter Temperature in Fahrenheit: 20\n",
            "Temperature in Celsius is:  -6.666666666666667\n",
            "Temperature in Kelvin is:  266.8333333333333\n"
          ],
          "name": "stdout"
        }
      ]
    },
    {
      "cell_type": "markdown",
      "metadata": {
        "id": "Wojfxhyv8Qsi",
        "colab_type": "text"
      },
      "source": [
        "**Question 6**\n",
        "\n",
        "Write a program to demonstrate all the available data types in Python. Hint: Use type() function.\n"
      ]
    },
    {
      "cell_type": "code",
      "metadata": {
        "id": "ZLp_gBH78XLR",
        "colab_type": "code",
        "colab": {
          "base_uri": "https://localhost:8080/",
          "height": 34
        },
        "outputId": "5c5f9219-85fd-4919-8a72-679c8b9c2cad"
      },
      "source": [
        "type(123)"
      ],
      "execution_count": null,
      "outputs": [
        {
          "output_type": "execute_result",
          "data": {
            "text/plain": [
              "int"
            ]
          },
          "metadata": {
            "tags": []
          },
          "execution_count": 22
        }
      ]
    },
    {
      "cell_type": "code",
      "metadata": {
        "id": "SpqmDGsk9SfY",
        "colab_type": "code",
        "colab": {
          "base_uri": "https://localhost:8080/",
          "height": 34
        },
        "outputId": "f5aa7096-bd10-40d5-cfe1-f54c8b09e7b9"
      },
      "source": [
        "type(22.54)"
      ],
      "execution_count": null,
      "outputs": [
        {
          "output_type": "execute_result",
          "data": {
            "text/plain": [
              "float"
            ]
          },
          "metadata": {
            "tags": []
          },
          "execution_count": 25
        }
      ]
    },
    {
      "cell_type": "code",
      "metadata": {
        "id": "QuF2ZSOv9e5g",
        "colab_type": "code",
        "colab": {
          "base_uri": "https://localhost:8080/",
          "height": 34
        },
        "outputId": "dbc3dcc2-05a9-40b7-a4de-639276e926ef"
      },
      "source": [
        "type(6+4j)"
      ],
      "execution_count": null,
      "outputs": [
        {
          "output_type": "execute_result",
          "data": {
            "text/plain": [
              "complex"
            ]
          },
          "metadata": {
            "tags": []
          },
          "execution_count": 26
        }
      ]
    },
    {
      "cell_type": "code",
      "metadata": {
        "id": "cUu6aN4e9iq6",
        "colab_type": "code",
        "colab": {
          "base_uri": "https://localhost:8080/",
          "height": 34
        },
        "outputId": "91e02400-1675-4965-d19a-3d050ffb05a4"
      },
      "source": [
        "type(\"hello\")"
      ],
      "execution_count": null,
      "outputs": [
        {
          "output_type": "execute_result",
          "data": {
            "text/plain": [
              "str"
            ]
          },
          "metadata": {
            "tags": []
          },
          "execution_count": 27
        }
      ]
    },
    {
      "cell_type": "code",
      "metadata": {
        "id": "YTFMIuyj9lA-",
        "colab_type": "code",
        "colab": {
          "base_uri": "https://localhost:8080/",
          "height": 34
        },
        "outputId": "9cc2290d-c45c-4f99-9626-30fab05b47cc"
      },
      "source": [
        "type([1,2,3,4])"
      ],
      "execution_count": null,
      "outputs": [
        {
          "output_type": "execute_result",
          "data": {
            "text/plain": [
              "list"
            ]
          },
          "metadata": {
            "tags": []
          },
          "execution_count": 28
        }
      ]
    },
    {
      "cell_type": "code",
      "metadata": {
        "id": "g9eOW6OC9oaq",
        "colab_type": "code",
        "colab": {
          "base_uri": "https://localhost:8080/",
          "height": 34
        },
        "outputId": "ef048c29-233e-4415-838e-013bd3c3ed04"
      },
      "source": [
        "type((1,2,3,4))"
      ],
      "execution_count": null,
      "outputs": [
        {
          "output_type": "execute_result",
          "data": {
            "text/plain": [
              "tuple"
            ]
          },
          "metadata": {
            "tags": []
          },
          "execution_count": 29
        }
      ]
    },
    {
      "cell_type": "code",
      "metadata": {
        "id": "PKFSOAnC9t7z",
        "colab_type": "code",
        "colab": {
          "base_uri": "https://localhost:8080/",
          "height": 34
        },
        "outputId": "303efb94-8f34-42f8-e875-23e26e17265d"
      },
      "source": [
        "type({1:\"one\", 2:\"two\", 3:\"three\"})"
      ],
      "execution_count": null,
      "outputs": [
        {
          "output_type": "execute_result",
          "data": {
            "text/plain": [
              "dict"
            ]
          },
          "metadata": {
            "tags": []
          },
          "execution_count": 30
        }
      ]
    },
    {
      "cell_type": "markdown",
      "metadata": {
        "id": "HJBiRPPY9wPy",
        "colab_type": "text"
      },
      "source": [
        "**Question 7**\n",
        "\n",
        "Create a Markdown cell in jupyter and list the steps discussed in the session by Dr. Darshan\n",
        "Ingle sir to create Github profile and upload Githubs Assignment link."
      ]
    },
    {
      "cell_type": "markdown",
      "metadata": {
        "id": "zTgRg3Iv-KFn",
        "colab_type": "text"
      },
      "source": [
        "**Creating GitHub Profile**\n",
        "\n",
        "The Steps for creating GitHub profile are-\n",
        "\n",
        "1. Go to github.com\n",
        "\n",
        "2. Click on Sign Up and fill the details there.\n",
        "\n",
        "3. Then Login into account by Signing In.\n",
        "\n",
        "**Uploading Assignments**\n",
        "\n",
        "The steps for uploading Assignment using GitHub are- \n",
        "\n",
        "1. Complete Assignment using Google Colab, JUpyter Notebook or else, whichever is preferable.\n",
        "\n",
        "2. Save it into the device.\n",
        "\n",
        "3. On GitHub, create a Repository named as **LetsUpgrade AI-ML**.\n",
        "\n",
        "4. Upload the Assignment daily in that repository.\n",
        "\n",
        "5. Once you have uploaded the Assignment in GithUb repository, Copy the URL of GitHub repository and paste it in the Assignment submission form.\n",
        "\n",
        "Once you'll complete this, you are done with assignment submission.\n"
      ]
    }
  ]
}