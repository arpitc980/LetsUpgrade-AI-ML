{
  "nbformat": 4,
  "nbformat_minor": 0,
  "metadata": {
    "colab": {
      "name": "Assignment Day 5.ipynb",
      "provenance": []
    },
    "kernelspec": {
      "name": "python3",
      "display_name": "Python 3"
    }
  },
  "cells": [
    {
      "cell_type": "markdown",
      "metadata": {
        "id": "DDE8xg8LAweM",
        "colab_type": "text"
      },
      "source": [
        "**Question 1**\n",
        "\n",
        "Write a Python program to find the first 20 non-even prime natural numbers.\n"
      ]
    },
    {
      "cell_type": "code",
      "metadata": {
        "id": "9KMOFtUiAqfv",
        "colab_type": "code",
        "colab": {
          "base_uri": "https://localhost:8080/",
          "height": 129
        },
        "outputId": "35142829-c598-41fa-f9fe-ba8a533d3555"
      },
      "source": [
        "n = int(input(\"How many prime numbers would you like to print? \\n\"))\n",
        "no = range(1, n*10)\n",
        "prime_no = []\n",
        "\n",
        "for num in no:\n",
        "    if num > 2 and len(prime_no) <= n-1:\n",
        "        for i in range(2, num):\n",
        "            if (num % i) == 0:\n",
        "                break\n",
        "                \n",
        "        else:\n",
        "            prime_no.append(num)\n",
        "            \n",
        "print (\"\\nHere are the first\", n, \"non-even prime numbers: \\n\")\n",
        "for x in prime_no:\n",
        "    print (x, end=\" \")"
      ],
      "execution_count": 12,
      "outputs": [
        {
          "output_type": "stream",
          "text": [
            "How many prime numbers would you like to print? \n",
            "20\n",
            "\n",
            "Here are the first 20 non-even prime numbers: \n",
            "\n",
            "3 5 7 11 13 17 19 23 29 31 37 41 43 47 53 59 61 67 71 73 "
          ],
          "name": "stdout"
        }
      ]
    },
    {
      "cell_type": "markdown",
      "metadata": {
        "id": "eY6Evf3WQSno",
        "colab_type": "text"
      },
      "source": [
        "**Question 2**\n",
        "\n",
        "Write a Python program to implement 15 functions of string."
      ]
    },
    {
      "cell_type": "markdown",
      "metadata": {
        "id": "CU7xgmiXo_0z",
        "colab_type": "text"
      },
      "source": [
        "Here, below are 15 String functions in Python.\n",
        "\n",
        "I have consider a string str.\n",
        "\n",
        "The String function used are-\n",
        "\n",
        "1. capitalize()\n",
        "\n",
        "2. casefold()\n",
        "\n",
        "3. count()\n",
        "\n",
        "4. endswith()\n",
        "\n",
        "5. index()\n",
        "\n",
        "6. isalnum()\n",
        "\n",
        "7. isalpha()\n",
        "\n",
        "8. isdecimal()\n",
        "\n",
        "9. isprintable()\n",
        "\n",
        "10. isnumeric()\n",
        "\n",
        "11. upper()\n",
        "\n",
        "12. swapcase()\n",
        "\n",
        "13. startswith()\n",
        "\n",
        "14. split()\n",
        "\n",
        "15. isdigit()"
      ]
    },
    {
      "cell_type": "code",
      "metadata": {
        "id": "e5WpRTYJQarR",
        "colab_type": "code",
        "colab": {}
      },
      "source": [
        "str = \"hello and Welcome to Bangalore\""
      ],
      "execution_count": 17,
      "outputs": []
    },
    {
      "cell_type": "code",
      "metadata": {
        "id": "cgK89iw3pqGL",
        "colab_type": "code",
        "colab": {
          "base_uri": "https://localhost:8080/",
          "height": 36
        },
        "outputId": "2106a3d0-4858-42bd-88e3-4dd77f4d50b3"
      },
      "source": [
        "a = str.capitalize()\n",
        "print (a)"
      ],
      "execution_count": 18,
      "outputs": [
        {
          "output_type": "stream",
          "text": [
            "Hello and welcome to bangalore\n"
          ],
          "name": "stdout"
        }
      ]
    },
    {
      "cell_type": "code",
      "metadata": {
        "id": "PWkKyr5Kp9-W",
        "colab_type": "code",
        "colab": {
          "base_uri": "https://localhost:8080/",
          "height": 36
        },
        "outputId": "61d6efd4-d0a1-4421-8544-2ed819404b97"
      },
      "source": [
        "a = str.casefold()\n",
        "print(a)"
      ],
      "execution_count": 19,
      "outputs": [
        {
          "output_type": "stream",
          "text": [
            "hello and welcome to bangalore\n"
          ],
          "name": "stdout"
        }
      ]
    },
    {
      "cell_type": "code",
      "metadata": {
        "id": "Qn52kJxfrpYp",
        "colab_type": "code",
        "colab": {
          "base_uri": "https://localhost:8080/",
          "height": 36
        },
        "outputId": "0c75e180-ac17-40a1-8924-365de353c589"
      },
      "source": [
        "a = str.count(\"hello\")\n",
        "print(a)"
      ],
      "execution_count": 21,
      "outputs": [
        {
          "output_type": "stream",
          "text": [
            "1\n"
          ],
          "name": "stdout"
        }
      ]
    },
    {
      "cell_type": "code",
      "metadata": {
        "id": "KZwg_9Y3si32",
        "colab_type": "code",
        "colab": {
          "base_uri": "https://localhost:8080/",
          "height": 36
        },
        "outputId": "778042a8-6d54-4d86-9f4a-e1de4ab92862"
      },
      "source": [
        "a = str.endswith(\"e\")\n",
        "print (a)"
      ],
      "execution_count": 22,
      "outputs": [
        {
          "output_type": "stream",
          "text": [
            "True\n"
          ],
          "name": "stdout"
        }
      ]
    },
    {
      "cell_type": "code",
      "metadata": {
        "id": "N9bVFgKNsPNZ",
        "colab_type": "code",
        "colab": {
          "base_uri": "https://localhost:8080/",
          "height": 36
        },
        "outputId": "41220fd8-7ad7-4681-c2f8-cbb613468f67"
      },
      "source": [
        "a = str.index(\"Welcome\")\n",
        "print (a)"
      ],
      "execution_count": 24,
      "outputs": [
        {
          "output_type": "stream",
          "text": [
            "10\n"
          ],
          "name": "stdout"
        }
      ]
    },
    {
      "cell_type": "code",
      "metadata": {
        "id": "D9LDHNaMuBa0",
        "colab_type": "code",
        "colab": {
          "base_uri": "https://localhost:8080/",
          "height": 36
        },
        "outputId": "38ca4380-b483-4a44-96b2-b9361748906c"
      },
      "source": [
        "a = str.isalnum()\n",
        "print (a)\n"
      ],
      "execution_count": 25,
      "outputs": [
        {
          "output_type": "stream",
          "text": [
            "False\n"
          ],
          "name": "stdout"
        }
      ]
    },
    {
      "cell_type": "code",
      "metadata": {
        "id": "6AnXN9n_unn1",
        "colab_type": "code",
        "colab": {
          "base_uri": "https://localhost:8080/",
          "height": 36
        },
        "outputId": "43444e0e-a05f-4572-88b2-c56ab74cc81f"
      },
      "source": [
        "a = str.isalpha()\n",
        "print (a)"
      ],
      "execution_count": 27,
      "outputs": [
        {
          "output_type": "stream",
          "text": [
            "False\n"
          ],
          "name": "stdout"
        }
      ]
    },
    {
      "cell_type": "code",
      "metadata": {
        "id": "xEgRy-Lgu9Ya",
        "colab_type": "code",
        "colab": {
          "base_uri": "https://localhost:8080/",
          "height": 36
        },
        "outputId": "b86450ca-3ef3-465b-b07c-e3e6d8542caa"
      },
      "source": [
        "a = str.isdecimal()\n",
        "print (a)"
      ],
      "execution_count": 28,
      "outputs": [
        {
          "output_type": "stream",
          "text": [
            "False\n"
          ],
          "name": "stdout"
        }
      ]
    },
    {
      "cell_type": "code",
      "metadata": {
        "id": "1GhH7yXJviTC",
        "colab_type": "code",
        "colab": {
          "base_uri": "https://localhost:8080/",
          "height": 36
        },
        "outputId": "de8dcea1-12b9-464e-df74-9e9c9c26c956"
      },
      "source": [
        "a = str.isprintable()\n",
        "print (a)"
      ],
      "execution_count": 29,
      "outputs": [
        {
          "output_type": "stream",
          "text": [
            "True\n"
          ],
          "name": "stdout"
        }
      ]
    },
    {
      "cell_type": "code",
      "metadata": {
        "id": "fLXUxNZfv9pp",
        "colab_type": "code",
        "colab": {
          "base_uri": "https://localhost:8080/",
          "height": 36
        },
        "outputId": "255af528-4c60-4cd6-c415-03b3a27ae6e1"
      },
      "source": [
        "a = str.isnumeric()\n",
        "print (a)"
      ],
      "execution_count": 30,
      "outputs": [
        {
          "output_type": "stream",
          "text": [
            "False\n"
          ],
          "name": "stdout"
        }
      ]
    },
    {
      "cell_type": "code",
      "metadata": {
        "id": "4r7k6dUXXsjP",
        "colab_type": "code",
        "colab": {
          "base_uri": "https://localhost:8080/",
          "height": 36
        },
        "outputId": "004c8470-1773-434a-aa0e-ff33aecdbb45"
      },
      "source": [
        "a = str.upper()\n",
        "print (a)"
      ],
      "execution_count": 6,
      "outputs": [
        {
          "output_type": "stream",
          "text": [
            "HELLO AND WELCOME TO BANGALORE\n"
          ],
          "name": "stdout"
        }
      ]
    },
    {
      "cell_type": "code",
      "metadata": {
        "id": "zcT5Mo2_Yqj6",
        "colab_type": "code",
        "colab": {
          "base_uri": "https://localhost:8080/",
          "height": 36
        },
        "outputId": "ec6d4203-c7b7-402a-a252-fb1dbb11ee4c"
      },
      "source": [
        "a = str.swapcase()\n",
        "print (a)"
      ],
      "execution_count": 7,
      "outputs": [
        {
          "output_type": "stream",
          "text": [
            "HELLO AND wELCOME TO bANGALORE\n"
          ],
          "name": "stdout"
        }
      ]
    },
    {
      "cell_type": "code",
      "metadata": {
        "id": "n3F8mhV4ZArW",
        "colab_type": "code",
        "colab": {
          "base_uri": "https://localhost:8080/",
          "height": 36
        },
        "outputId": "5f882b94-e3dc-4358-bc2d-09f465719246"
      },
      "source": [
        "a = str.startswith(\"hello\")\n",
        "print (a)"
      ],
      "execution_count": 9,
      "outputs": [
        {
          "output_type": "stream",
          "text": [
            "True\n"
          ],
          "name": "stdout"
        }
      ]
    },
    {
      "cell_type": "code",
      "metadata": {
        "id": "JMK8BLlrZdDM",
        "colab_type": "code",
        "colab": {
          "base_uri": "https://localhost:8080/",
          "height": 36
        },
        "outputId": "e163391b-419b-4b0f-b1e1-9c1d3bcf931b"
      },
      "source": [
        "a = str.split()\n",
        "print (a)"
      ],
      "execution_count": 10,
      "outputs": [
        {
          "output_type": "stream",
          "text": [
            "['hello', 'and', 'Welcome', 'to', 'Bangalore']\n"
          ],
          "name": "stdout"
        }
      ]
    },
    {
      "cell_type": "code",
      "metadata": {
        "id": "7tv0j_rQZkk5",
        "colab_type": "code",
        "colab": {
          "base_uri": "https://localhost:8080/",
          "height": 36
        },
        "outputId": "7a321d50-aac9-449f-bf08-16d268b3f9bf"
      },
      "source": [
        "a = str.isdigit()\n",
        "print (a)"
      ],
      "execution_count": 16,
      "outputs": [
        {
          "output_type": "stream",
          "text": [
            "False\n"
          ],
          "name": "stdout"
        }
      ]
    },
    {
      "cell_type": "markdown",
      "metadata": {
        "id": "valilPESQbim",
        "colab_type": "text"
      },
      "source": [
        "**Question 3**\n",
        "\n",
        "Write a Python program to check if the given string is a Palindrome or Anagram or None of them.\n",
        "\n",
        "Display the message accordingly to the user.\n"
      ]
    },
    {
      "cell_type": "code",
      "metadata": {
        "id": "ipcZMLt6Qin-",
        "colab_type": "code",
        "colab": {
          "base_uri": "https://localhost:8080/",
          "height": 73
        },
        "outputId": "70afdcbc-21f5-49fb-b629-78bbe48d4482"
      },
      "source": [
        "a = str(input(\"Enter 1st string: \"))\n",
        "b = str(input(\"Enter 2nd string: \"))\n",
        "\n",
        "def nature():\n",
        "  if sorted(a) == sorted(b):\n",
        "    print (\"Entered string is a anagram.\")\n",
        "\n",
        "  if a == a[::-1]:\n",
        "    print (\"The entered string is a palindrome.\")\n",
        "\n",
        "  else:\n",
        "    print (\"The string is neither anagram nor palindrome.\")\n",
        "nature()"
      ],
      "execution_count": 6,
      "outputs": [
        {
          "output_type": "stream",
          "text": [
            "Enter 1st string: arpit\n",
            "Enter 2nd string: chauhan\n",
            "The string is neither anagram nor palindrome.\n"
          ],
          "name": "stdout"
        }
      ]
    },
    {
      "cell_type": "markdown",
      "metadata": {
        "id": "e0ijhpIWSK4X",
        "colab_type": "text"
      },
      "source": [
        "**Question 4**\n",
        "\n",
        "Write a Python's user defined function that removes all the additional characters from the string\n",
        "and converts it finally to lower case using built-in lower(). eg: If the string is \"Dr. Darshan Ingle\n",
        "@AI-ML Trainer\", then the output be \"drdarshaningle aimltrainer\"."
      ]
    },
    {
      "cell_type": "code",
      "metadata": {
        "id": "DYLhpeqXSi7B",
        "colab_type": "code",
        "colab": {
          "base_uri": "https://localhost:8080/",
          "height": 36
        },
        "outputId": "2799020f-a2a3-4b7d-d4ea-4b66df40c139"
      },
      "source": [
        "def remove_str(s):\n",
        "  characters_to_remove = \" .-!@= \"\n",
        "  new_s = s\n",
        "\n",
        "  for char in characters_to_remove:\n",
        "    new_s = new_s.lower().replace(char,\"\")\n",
        "  print (new_s)\n",
        "\n",
        "remove_str(\"Dr. Darshan Ingle@AI-ML Trainer\")"
      ],
      "execution_count": 11,
      "outputs": [
        {
          "output_type": "stream",
          "text": [
            "drdarshaningleaimltrainer\n"
          ],
          "name": "stdout"
        }
      ]
    }
  ]
}